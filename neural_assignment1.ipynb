{
 "cells": [
  {
   "cell_type": "code",
   "execution_count": 1,
   "id": "792864ff",
   "metadata": {},
   "outputs": [
    {
     "name": "stdout",
     "output_type": "stream",
     "text": [
      "Enter a string: python\n",
      "Sample output: noht\n"
     ]
    }
   ],
   "source": [
    "input_string = input(\"Enter a string: \")\n",
    "result_string = input_string[2:][::-1]\n",
    "print(\"Sample output:\", result_string)\n"
   ]
  },
  {
   "cell_type": "code",
   "execution_count": 2,
   "id": "2b135752",
   "metadata": {},
   "outputs": [
    {
     "name": "stdout",
     "output_type": "stream",
     "text": [
      "Enter first number: 18\n",
      "Enter second number: 9\n",
      "Addition: 27.0\n",
      "Subtraction: 9.0\n",
      "Multiplication: 162.0\n",
      "Division: 2.0\n"
     ]
    }
   ],
   "source": [
    "num1 = float(input(\"Enter first number: \"))\n",
    "num2 = float(input(\"Enter second number: \"))\n",
    "print(\"Addition:\", num1+num2)\n",
    "print(\"Subtraction:\", num1-num2)\n",
    "print(\"Multiplication:\", num1*num2)\n",
    "print(\"Division:\", num1/num2)"
   ]
  },
  {
   "cell_type": "code",
   "execution_count": 5,
   "id": "0fd5d235",
   "metadata": {},
   "outputs": [
    {
     "name": "stdout",
     "output_type": "stream",
     "text": [
      "Enter sentence: I love playing with python\n",
      "Output:  I love playing with pythons\n"
     ]
    }
   ],
   "source": [
    "sentence = input(\"Enter sentence: \")\n",
    "replaced = sentence.replace('python', 'pythons')\n",
    "print(\"Output: \", replaced)"
   ]
  },
  {
   "cell_type": "code",
   "execution_count": 6,
   "id": "6127d1fe",
   "metadata": {},
   "outputs": [
    {
     "name": "stdout",
     "output_type": "stream",
     "text": [
      "Enter class score 77\n",
      "C\n"
     ]
    }
   ],
   "source": [
    "score = int(input(\"Enter class score \"))\n",
    "if(score>=90):\n",
    "  print(\"A\")\n",
    "elif(score>=80 and score<90):\n",
    "  print(\"B\")\n",
    "elif(score>=70 and score<80):\n",
    "  print(\"C\")\n",
    "elif(score>=60 and score<70):\n",
    "  print(\"D\")\n",
    "else:\n",
    "  print(\"F\")"
   ]
  },
  {
   "cell_type": "code",
   "execution_count": null,
   "id": "eb55ff99",
   "metadata": {},
   "outputs": [],
   "source": []
  }
 ],
 "metadata": {
  "kernelspec": {
   "display_name": "Python 3 (ipykernel)",
   "language": "python",
   "name": "python3"
  },
  "language_info": {
   "codemirror_mode": {
    "name": "ipython",
    "version": 3
   },
   "file_extension": ".py",
   "mimetype": "text/x-python",
   "name": "python",
   "nbconvert_exporter": "python",
   "pygments_lexer": "ipython3",
   "version": "3.11.4"
  }
 },
 "nbformat": 4,
 "nbformat_minor": 5
}
